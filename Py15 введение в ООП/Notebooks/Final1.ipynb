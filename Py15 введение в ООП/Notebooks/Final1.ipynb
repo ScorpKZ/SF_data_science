{
 "cells": [
  {
   "cell_type": "code",
   "execution_count": null,
   "metadata": {},
   "outputs": [],
   "source": []
  },
  {
   "cell_type": "code",
   "execution_count": 54,
   "metadata": {},
   "outputs": [
    {
     "name": "stdout",
     "output_type": "stream",
     "text": [
      "95530 143012 15085 9.480411004308916\n"
     ]
    }
   ],
   "source": [
    "import pandas as pd\n",
    "#students = pd.read_csv('data/students_performance.csv', sep=',')\n",
    "#mask1=(students['race/ethnicity']==\"group A\")\n",
    "#mask2=(students['race/ethnicity']==\"group C\")\n",
    "#display(students[mask1]['writing score'].median())\n",
    "#display(students[mask2]['writing score'].mean())\n",
    "#display(students[students['lunch']=='free/reduced']['math score'].mean())\n",
    "\n",
    "#countries_df = pd.DataFrame({\n",
    "#    'country': ['Англия', 'Канада', 'США', 'Россия', 'Украина', 'Беларусь', 'Казахстан'],\n",
    "#    'population': [56.29, 38.05, 322.28, 146.24, 45.5, 9.5, 17.04],\n",
    "#    'square': [133396, 9984670, 9826630, 17125191, 603628, 207600, 2724902]\n",
    "#})\n",
    "#countries_df['density']=countries_df['population']*1000000/countries_df['square']\n",
    "#countries_df['density'].mean()\n",
    "\n",
    "#\"City\" — город, где был замечен НЛО\n",
    "#\"Colors Reported\" — цвет объекта\n",
    "#\"Shape Reported\" — форма объекта\n",
    "#\"State\" — обозначение штата\n",
    "#\"Time\" — время, когда был замечен НЛО \n",
    "#(данные отсортированы от старых наблюдений к новым) \n",
    "#ufo = pd.read_csv('data/ufo.csv', sep=',')\n",
    "#ufo['Time'] = pd.to_datetime(ufo['Time'])\n",
    "#year = ufo['Time'].dt.year\n",
    "#print(year.mode())\n",
    "#ufo['Date'] = ufo['Time'].dt.date\n",
    "#mask_NA = ufo['State']=='NV'\n",
    "#ufo['days']=ufo[mask_NA]['Date'].diff()\n",
    "#ufo.head(10)\n",
    "#ufo['days']=ufo[mask_NA]['days'].dt.days\n",
    "#print(ufo[mask_NA]['days'].mean())\n",
    "#ufo[mask_NA].head(10)\n",
    "\n",
    "#велосипеды\n",
    "#===========================================\n",
    "bicycles = pd.read_csv('data/citibike-tripdata.csv', sep=',')\n",
    "\n",
    "#display(bicycles['start station id'].value_counts().min())\n",
    "#display(bicycles['end station name'].value_counts())\n",
    "#print('===')\n",
    "#bicycles['end station id'].unique().shape[0]\n",
    "#bicycles['birth year'].head(10)\n",
    "#bicycles['age']=2018-bicycles['birth year']\n",
    "#mask_60 = bicycles['age']>60\n",
    "#bicycles[mask_60]['age'].shape[0]\n",
    "\n",
    "bicycles['starttime'] = pd.to_datetime(bicycles['starttime'])\n",
    "#bicycles['stoptime'] = pd.to_datetime(bicycles['stoptime'])\n",
    "#bicycles['trip duration']=bicycles['stoptime']-bicycles['starttime']\n",
    "#bicycles['trip duration'].head(20)\n",
    "\n",
    "#bicycles['holyday']=bicycles['starttime'].dt.dayofweek\n",
    "#bicycles['holyday'].value_counts()\n",
    "#bicycles['holyday']= \n",
    "#bicycles['holyday'].unique()\n",
    "#bicycles['holyday'].head(20)\n",
    "\n",
    "bicycles['starthour']=bicycles['starttime'].dt.hour\n",
    "morning =((bicycles['starthour'] > 6) &  (bicycles['starthour'] <= 12))\n",
    "trips_m = bicycles[morning].shape[0]\n",
    "day =((bicycles['starthour'] > 12) &  (bicycles['starthour'] <= 18))\n",
    "trips_d = bicycles[day].shape[0]\n",
    "night =((bicycles['starthour'] >= 0) &  (bicycles['starthour'] <= 6))\n",
    "trips_n = bicycles[night].shape[0]\n",
    "\n",
    "print (trips_m, trips_d, trips_n, trips_d/trips_n)\n"
   ]
  }
 ],
 "metadata": {
  "kernelspec": {
   "display_name": "Python 3",
   "language": "python",
   "name": "python3"
  },
  "language_info": {
   "codemirror_mode": {
    "name": "ipython",
    "version": 3
   },
   "file_extension": ".py",
   "mimetype": "text/x-python",
   "name": "python",
   "nbconvert_exporter": "python",
   "pygments_lexer": "ipython3",
   "version": "3.10.9"
  },
  "orig_nbformat": 4
 },
 "nbformat": 4,
 "nbformat_minor": 2
}
