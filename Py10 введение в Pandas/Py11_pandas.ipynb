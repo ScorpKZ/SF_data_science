{
 "cells": [
  {
   "cell_type": "code",
   "execution_count": 42,
   "metadata": {},
   "outputs": [
    {
     "ename": "NameError",
     "evalue": "name 'sex' is not defined",
     "output_type": "error",
     "traceback": [
      "\u001b[1;31m---------------------------------------------------------------------------\u001b[0m",
      "\u001b[1;31mNameError\u001b[0m                                 Traceback (most recent call last)",
      "Cell \u001b[1;32mIn[42], line 13\u001b[0m\n\u001b[0;32m     10\u001b[0m sum_area \u001b[39m=\u001b[39m melb[\u001b[39m'\u001b[39m\u001b[39mBuildingArea\u001b[39m\u001b[39m'\u001b[39m] \u001b[39m+\u001b[39m melb[\u001b[39m'\u001b[39m\u001b[39mLandsize\u001b[39m\u001b[39m'\u001b[39m]\n\u001b[0;32m     11\u001b[0m melb[\u001b[39m'\u001b[39m\u001b[39mAreaRatio\u001b[39m\u001b[39m'\u001b[39m] \u001b[39m=\u001b[39m diff_area\u001b[39m/\u001b[39msum_area\n\u001b[1;32m---> 13\u001b[0m melb\u001b[39m.\u001b[39mdrop([sex])\n",
      "\u001b[1;31mNameError\u001b[0m: name 'sex' is not defined"
     ]
    }
   ],
   "source": [
    "import pandas as pd\n",
    "melb_data = pd.read_csv('data/melb_data_ps.csv', sep=',')\n",
    "melb=melb_data.copy()\n",
    "melb= melb.drop(['index', 'Coordinates'], axis=1)\n",
    "\n",
    "total_rooms = melb['Rooms'] + melb['Bedroom'] + melb['Bathroom']\n",
    "melb['MeanRoomsSquare'] = melb['BuildingArea'] / total_rooms\n",
    "\n",
    "diff_area = melb['BuildingArea'] - melb['Landsize']\n",
    "sum_area = melb['BuildingArea'] + melb['Landsize']\n",
    "melb['AreaRatio'] = diff_area/sum_area\n",
    "\n",
    "melb.drop([sex])"
   ]
  }
 ],
 "metadata": {
  "kernelspec": {
   "display_name": "Python 3",
   "language": "python",
   "name": "python3"
  },
  "language_info": {
   "codemirror_mode": {
    "name": "ipython",
    "version": 3
   },
   "file_extension": ".py",
   "mimetype": "text/x-python",
   "name": "python",
   "nbconvert_exporter": "python",
   "pygments_lexer": "ipython3",
   "version": "3.10.9"
  },
  "orig_nbformat": 4
 },
 "nbformat": 4,
 "nbformat_minor": 2
}
