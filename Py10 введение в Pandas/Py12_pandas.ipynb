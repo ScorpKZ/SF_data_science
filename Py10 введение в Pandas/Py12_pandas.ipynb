{
 "cells": [
  {
   "cell_type": "code",
   "execution_count": 1,
   "metadata": {},
   "outputs": [
    {
     "name": "stdout",
     "output_type": "stream",
     "text": [
      "<class 'pandas.core.frame.DataFrame'>\n",
      "RangeIndex: 13580 entries, 0 to 13579\n",
      "Data columns (total 26 columns):\n",
      " #   Column           Non-Null Count  Dtype  \n",
      "---  ------           --------------  -----  \n",
      " 0   Suburb           13580 non-null  object \n",
      " 1   Rooms            13580 non-null  int64  \n",
      " 2   Type             13580 non-null  object \n",
      " 3   Price            13580 non-null  float64\n",
      " 4   Method           13580 non-null  object \n",
      " 5   SellerG          13580 non-null  object \n",
      " 6   Date             13580 non-null  object \n",
      " 7   Distance         13580 non-null  float64\n",
      " 8   Postcode         13580 non-null  int64  \n",
      " 9   Bedroom          13580 non-null  int64  \n",
      " 10  Bathroom         13580 non-null  int64  \n",
      " 11  Car              13580 non-null  int64  \n",
      " 12  Landsize         13580 non-null  float64\n",
      " 13  BuildingArea     13580 non-null  float64\n",
      " 14  CouncilArea      12211 non-null  object \n",
      " 15  Lattitude        13580 non-null  float64\n",
      " 16  Longtitude       13580 non-null  float64\n",
      " 17  Regionname       13580 non-null  object \n",
      " 18  Propertycount    13580 non-null  int64  \n",
      " 19  MeanRoomsSquare  13580 non-null  float64\n",
      " 20  AreaRatio        13580 non-null  float64\n",
      " 21  MonthSale        13580 non-null  int64  \n",
      " 22  AgeBuilding      13580 non-null  int64  \n",
      " 23  WeekdaySale      13580 non-null  int64  \n",
      " 24  StreetType       13580 non-null  object \n",
      " 25  Weekend          13580 non-null  int64  \n",
      "dtypes: float64(8), int64(10), object(8)\n",
      "memory usage: 2.7+ MB\n"
     ]
    }
   ],
   "source": [
    "import pandas as pd\n",
    "melb = pd.read_csv('data/melb_data_fe.csv', sep=',')\n",
    "\n",
    "melb.info()"
   ]
  }
 ],
 "metadata": {
  "kernelspec": {
   "display_name": "Python 3",
   "language": "python",
   "name": "python3"
  },
  "language_info": {
   "codemirror_mode": {
    "name": "ipython",
    "version": 3
   },
   "file_extension": ".py",
   "mimetype": "text/x-python",
   "name": "python",
   "nbconvert_exporter": "python",
   "pygments_lexer": "ipython3",
   "version": "3.10.9"
  },
  "orig_nbformat": 4
 },
 "nbformat": 4,
 "nbformat_minor": 2
}
