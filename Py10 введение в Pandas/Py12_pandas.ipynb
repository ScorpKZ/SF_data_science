{
 "cells": [
  {
   "cell_type": "code",
   "execution_count": 52,
   "metadata": {},
   "outputs": [
    {
     "data": {
      "text/html": [
       "<div>\n",
       "<style scoped>\n",
       "    .dataframe tbody tr th:only-of-type {\n",
       "        vertical-align: middle;\n",
       "    }\n",
       "\n",
       "    .dataframe tbody tr th {\n",
       "        vertical-align: top;\n",
       "    }\n",
       "\n",
       "    .dataframe thead th {\n",
       "        text-align: right;\n",
       "    }\n",
       "</style>\n",
       "<table border=\"1\" class=\"dataframe\">\n",
       "  <thead>\n",
       "    <tr style=\"text-align: right;\">\n",
       "      <th></th>\n",
       "      <th>Price</th>\n",
       "    </tr>\n",
       "  </thead>\n",
       "  <tbody>\n",
       "    <tr>\n",
       "      <th>15</th>\n",
       "      <td>970000.0</td>\n",
       "    </tr>\n",
       "    <tr>\n",
       "      <th>16</th>\n",
       "      <td>970000.0</td>\n",
       "    </tr>\n",
       "    <tr>\n",
       "      <th>17</th>\n",
       "      <td>1320000.0</td>\n",
       "    </tr>\n",
       "    <tr>\n",
       "      <th>18</th>\n",
       "      <td>1300000.0</td>\n",
       "    </tr>\n",
       "    <tr>\n",
       "      <th>19</th>\n",
       "      <td>2700000.0</td>\n",
       "    </tr>\n",
       "    <tr>\n",
       "      <th>20</th>\n",
       "      <td>1550000.0</td>\n",
       "    </tr>\n",
       "  </tbody>\n",
       "</table>\n",
       "</div>"
      ],
      "text/plain": [
       "        Price\n",
       "15   970000.0\n",
       "16   970000.0\n",
       "17  1320000.0\n",
       "18  1300000.0\n",
       "19  2700000.0\n",
       "20  1550000.0"
      ]
     },
     "execution_count": 52,
     "metadata": {},
     "output_type": "execute_result"
    }
   ],
   "source": [
    "import pandas as pd\n",
    "melb = pd.read_csv('data/melb_data_fe.csv', sep=',')\n",
    "melb['Date'] = pd.to_datetime(melb['Date'])\n",
    "#qar = melb['Date'].dt.quarter\n",
    "#qar.value_counts()\n",
    "#melb.describe(include='object')\n",
    "\n",
    "exclude= ['Rooms','Bathroom', 'Car', 'Date', 'Bedroom']\n",
    "for col in melb.columns:\n",
    "    if (melb[col].unique().shape[0]<150) and col not in exclude:\n",
    "        melb[col] = melb[col].astype('category')\n",
    "                \n",
    "#melb.sort_values(by='Price').head(10)  #сортируем по цене\n",
    "#melb.sort_values(by='Date', ascending=False)  #теперь по убыванию даты\n",
    "#сортируем по расстоянию от центра и потом поцене, выводим каждую 10 строку\n",
    "#melb.sort_values(by=['Distance', 'Price']).loc[::10, ['Distance', 'Price']]\n",
    "#соединим фильтрацию и сортировку\n",
    "#mask1 = melb['AreaRatio'] < -0.8\n",
    "#mask2 = melb['Type'] == 'townhouse'\n",
    "#mask3 = melb['SellerG'] == 'McGrath'\n",
    "#melb[mask1 & mask2 & mask3].sort_values(\n",
    "#    by=['Date', 'AreaRatio'],\n",
    "#    ascending=[True, False],\n",
    "#    ignore_index=True\n",
    "#).loc[:, ['Date', 'AreaRatio']] #фильтруем, сортируем по дате и площади, печатаем\n",
    "\n",
    "#melb.sort_values(by=['AreaRatio'], ignore_index=True).loc[1555:1560, ['Date','BuildingArea']]\n",
    "mask1= melb['Type'] == 'townhouse'\n",
    "mask2= melb['Rooms'] > 2\n",
    "melb[mask1 & mask2].sort_values(\n",
    "    by=['Rooms', 'MeanRoomsSquare'],\n",
    "    ascending=[True, False],\n",
    "    ignore_index=True\n",
    ").loc[15:20, ['Price']]\n"
   ]
  }
 ],
 "metadata": {
  "kernelspec": {
   "display_name": "Python 3",
   "language": "python",
   "name": "python3"
  },
  "language_info": {
   "codemirror_mode": {
    "name": "ipython",
    "version": 3
   },
   "file_extension": ".py",
   "mimetype": "text/x-python",
   "name": "python",
   "nbconvert_exporter": "python",
   "pygments_lexer": "ipython3",
   "version": "3.10.9"
  },
  "orig_nbformat": 4
 },
 "nbformat": 4,
 "nbformat_minor": 2
}
