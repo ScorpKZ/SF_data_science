{
 "cells": [
  {
   "cell_type": "code",
   "execution_count": 7,
   "metadata": {},
   "outputs": [
    {
     "data": {
      "text/plain": [
       "Regionname\n",
       "Eastern Metropolitan          0.047890\n",
       "Eastern Victoria              0.147067\n",
       "Northern Metropolitan         0.049639\n",
       "Northern Victoria             0.084455\n",
       "South-Eastern Metropolitan    0.073411\n",
       "Southern Metropolitan         0.043080\n",
       "Western Metropolitan          0.051251\n",
       "Western Victoria              0.011579\n",
       "Name: Lattitude, dtype: float64"
      ]
     },
     "execution_count": 7,
     "metadata": {},
     "output_type": "execute_result"
    }
   ],
   "source": [
    "import pandas as pd\n",
    "melb = pd.read_csv('data/melb_data_fe.csv', sep=',')\n",
    "melb['Date'] = pd.to_datetime(melb['Date'])\n",
    "#qar = melb['Date'].dt.quarter\n",
    "#qar.value_counts()\n",
    "#melb.describe(include='object')\n",
    "\n",
    "exclude= ['Rooms','Bathroom', 'Car', 'Date', 'Bedroom']\n",
    "for col in melb.columns:\n",
    "    if (melb[col].unique().shape[0]<150) and col not in exclude:\n",
    "        melb[col] = melb[col].astype('category')\n",
    "                \n",
    "#melb.sort_values(by='Price').head(10)  #сортируем по цене\n",
    "#melb.sort_values(by='Date', ascending=False)  #теперь по убыванию даты\n",
    "#сортируем по расстоянию от центра и потом поцене, выводим каждую 10 строку\n",
    "#melb.sort_values(by=['Distance', 'Price']).loc[::10, ['Distance', 'Price']]\n",
    "#соединим фильтрацию и сортировку\n",
    "#mask1 = melb['AreaRatio'] < -0.8\n",
    "#mask2 = melb['Type'] == 'townhouse'\n",
    "#mask3 = melb['SellerG'] == 'McGrath'\n",
    "#melb[mask1 & mask2 & mask3].sort_values(\n",
    "#    by=['Date', 'AreaRatio'],\n",
    "#    ascending=[True, False],\n",
    "#    ignore_index=True\n",
    "#).loc[:, ['Date', 'AreaRatio']] #фильтруем, сортируем по дате и площади, печатаем\n",
    "\n",
    "#melb.sort_values(by=['AreaRatio'], ignore_index=True).loc[1555:1560, ['Date','BuildingArea']]\n",
    "#mask1= melb['Type'] == 'townhouse'\n",
    "#mask2= melb['Rooms'] > 2\n",
    "#melb[mask1 & mask2].sort_values(\n",
    "#    by=['Rooms', 'MeanRoomsSquare'],\n",
    "#    ascending=[True, False],\n",
    "#    ignore_index=True\n",
    "#).loc[15:20, ['Price']]\n",
    "\n",
    "melb.groupby('Regionname')['Lattitude'].std()\n",
    "\n",
    "\n"
   ]
  }
 ],
 "metadata": {
  "kernelspec": {
   "display_name": "Python 3",
   "language": "python",
   "name": "python3"
  },
  "language_info": {
   "codemirror_mode": {
    "name": "ipython",
    "version": 3
   },
   "file_extension": ".py",
   "mimetype": "text/x-python",
   "name": "python",
   "nbconvert_exporter": "python",
   "pygments_lexer": "ipython3",
   "version": "3.10.9"
  },
  "orig_nbformat": 4
 },
 "nbformat": 4,
 "nbformat_minor": 2
}
