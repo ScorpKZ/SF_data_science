{
 "cells": [
  {
   "cell_type": "code",
   "execution_count": 3,
   "metadata": {},
   "outputs": [
    {
     "name": "stdout",
     "output_type": "stream",
     "text": [
      "<class 'pandas.core.frame.DataFrame'>\n",
      "Index: 18 entries, 09.11.2019 21:55:51;9;10;Принят to 01.01.2001 00:00:00;0;1;Оплачен\n",
      "Data columns (total 1 columns):\n",
      " #   Column                                                                                     Non-Null Count  Dtype \n",
      "---  ------                                                                                     --------------  ----- \n",
      " 0   Дата создания;Order ID;ID Покупателя;Статус;Оплачен;Отменен;Отгружен;ID товара;Количество  13 non-null     object\n",
      "dtypes: object(1)\n",
      "memory usage: 288.0+ bytes\n"
     ]
    }
   ],
   "source": [
    "import pandas as pd\n",
    "import re\n",
    "\n",
    "orders= pd.read_csv('data/orders.csv', sep=',')\n",
    "#products = pd.read_csv('data/products.csv', sep=',')\n",
    "\n",
    "orders.info()\n",
    "#products.info()\n"
   ]
  }
 ],
 "metadata": {
  "kernelspec": {
   "display_name": "Python 3",
   "language": "python",
   "name": "python3"
  },
  "language_info": {
   "codemirror_mode": {
    "name": "ipython",
    "version": 3
   },
   "file_extension": ".py",
   "mimetype": "text/x-python",
   "name": "python",
   "nbconvert_exporter": "python",
   "pygments_lexer": "ipython3",
   "version": "3.10.9"
  },
  "orig_nbformat": 4
 },
 "nbformat": 4,
 "nbformat_minor": 2
}
