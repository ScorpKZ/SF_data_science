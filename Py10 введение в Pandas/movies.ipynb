{
 "cells": [
  {
   "cell_type": "code",
   "execution_count": null,
   "metadata": {},
   "outputs": [],
   "source": []
  },
  {
   "cell_type": "code",
   "execution_count": 7,
   "metadata": {},
   "outputs": [
    {
     "ename": "TypeError",
     "evalue": "Series.sort_values() got an unexpected keyword argument 'by'",
     "output_type": "error",
     "traceback": [
      "\u001b[1;31m---------------------------------------------------------------------------\u001b[0m",
      "\u001b[1;31mTypeError\u001b[0m                                 Traceback (most recent call last)",
      "Cell \u001b[1;32mIn[7], line 38\u001b[0m\n\u001b[0;32m     31\u001b[0m \u001b[39m#mask = movies['year'] == 1999\u001b[39;00m\n\u001b[0;32m     32\u001b[0m \u001b[39m#movies[mask].groupby('title')['rating'].mean().sort_values()\u001b[39;00m\n\u001b[0;32m     33\u001b[0m \u001b[39m#mask = movies['year'] == 2010\u001b[39;00m\n\u001b[0;32m     34\u001b[0m \u001b[39m#movies[mask].groupby('genres')['rating'].mean().sort_values()\u001b[39;00m\n\u001b[0;32m     35\u001b[0m \u001b[39m#\u001b[39;00m\n\u001b[0;32m     37\u001b[0m user\u001b[39m=\u001b[39m movies\u001b[39m.\u001b[39mgroupby(\u001b[39m'\u001b[39m\u001b[39muserId\u001b[39m\u001b[39m'\u001b[39m)[\u001b[39m'\u001b[39m\u001b[39mgenres\u001b[39m\u001b[39m'\u001b[39m]\u001b[39m.\u001b[39munique()\n\u001b[1;32m---> 38\u001b[0m user\u001b[39m.\u001b[39;49msort_values(by\u001b[39m=\u001b[39;49m[\u001b[39m'\u001b[39;49m\u001b[39mgenres\u001b[39;49m\u001b[39m'\u001b[39;49m], ascending\u001b[39m=\u001b[39;49m \u001b[39mFalse\u001b[39;49;00m)\n\u001b[0;32m     40\u001b[0m \u001b[39m#movies.groupby('userId')['rating'].agg(['count', 'mean']).sort_values(['count', 'mean'], ascending = [True, False])\u001b[39;00m\n\u001b[0;32m     41\u001b[0m \n\u001b[0;32m     42\u001b[0m \u001b[39m#mask = movies['year'] == 2018\u001b[39;00m\n\u001b[1;32m   (...)\u001b[0m\n\u001b[0;32m     54\u001b[0m \u001b[39m#mask = (mov['genres'] == 'Animation|Children|Mystery')\u001b[39;00m\n\u001b[0;32m     55\u001b[0m \u001b[39m#display(test[mask])\u001b[39;00m\n",
      "\u001b[1;31mTypeError\u001b[0m: Series.sort_values() got an unexpected keyword argument 'by'"
     ]
    }
   ],
   "source": [
    "import pandas as pd\n",
    "import re\n",
    "\n",
    "movies= pd.read_csv('data/ratings_movies.csv', sep=',')\n",
    "#movies['date'] = pd.to_datetime(movies['date'])\n",
    "#raitings2 = pd.read_csv('data/ratings2.csv', sep=',')\n",
    "#dates = pd.read_csv('data/dates.csv', sep=',')\n",
    "\n",
    "#ratings = pd.concat([ratings1, ratings2], ignore_index=True)\n",
    "#ratings = ratings.drop_duplicates(ignore_index=True)\n",
    "#ratings_dates = pd.concat([ratings, dates], axis=1)\n",
    "\n",
    "#display(movies)\n",
    "#movies.info()\n",
    " \n",
    "def get_year(arg):\n",
    "    #находим все слова по шаблону \"(DDDD)\"\n",
    "    candidates = re.findall(r'\\(\\d{4}\\)', arg) \n",
    "    # проверяем число вхождений\n",
    "    if len(candidates) > 0:\n",
    "        #если число вхождений больше 0,\n",
    "\t#очищаем строку от знаков \"(\" и \")\"\n",
    "        year = candidates[0].replace('(', '')\n",
    "        year = year.replace(')', '')\n",
    "        return int(year)\n",
    "    else:\n",
    "        #если год не указан, возвращаем None\n",
    "        return None\n",
    "#метод .apply применяет функцию ко всему столбцу    \n",
    "movies['year']= movies['title'].apply(get_year)\n",
    "#mask = movies['year'] == 1999\n",
    "#movies[mask].groupby('title')['rating'].mean().sort_values()\n",
    "#mask = movies['year'] == 2010\n",
    "#movies[mask].groupby('genres')['rating'].mean().sort_values()\n",
    "#\n",
    "\n",
    "user= movies.groupby('userId')['genres'].unique()\n",
    "user.sort_values(by=['genres'], ascending= False)\n",
    "\n",
    "#movies.groupby('userId')['rating'].agg(['count', 'mean']).sort_values(['count', 'mean'], ascending = [True, False])\n",
    "\n",
    "#mask = movies['year'] == 2018\n",
    "#mask_df =movies[mask].groupby('genres')['rating'].agg(['mean', 'count']).sort_values(['mean','count'], ascending = [True, False])\n",
    "#display (mask_df)\n",
    "#mask = mask_df['count'] > 10 \n",
    "#display(mask_df[mask])\n",
    "#movies.info()\n",
    "#mov = movies.pivot_table(\n",
    "#    values='rating',\n",
    "#    index='genres',\n",
    "#    columns='year',\n",
    "#    fill_value=0\n",
    "#)\n",
    "#mask = (mov['genres'] == 'Animation|Children|Mystery')\n",
    "#display(test[mask])\n",
    "\n"
   ]
  }
 ],
 "metadata": {
  "kernelspec": {
   "display_name": "Python 3",
   "language": "python",
   "name": "python3"
  },
  "language_info": {
   "codemirror_mode": {
    "name": "ipython",
    "version": 3
   },
   "file_extension": ".py",
   "mimetype": "text/x-python",
   "name": "python",
   "nbconvert_exporter": "python",
   "pygments_lexer": "ipython3",
   "version": "3.10.9"
  },
  "orig_nbformat": 4
 },
 "nbformat": 4,
 "nbformat_minor": 2
}
